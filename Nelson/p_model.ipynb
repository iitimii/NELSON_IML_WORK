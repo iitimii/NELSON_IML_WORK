{
 "cells": [
  {
   "cell_type": "code",
   "execution_count": 9,
   "metadata": {},
   "outputs": [],
   "source": [
    "import torch\n",
    "from torch import nn\n",
    "import pandas as  pd\n",
    "from sklearn.preprocessing import StandardScaler, MinMaxScaler\n",
    "import numpy as np"
   ]
  },
  {
   "cell_type": "code",
   "execution_count": 13,
   "metadata": {},
   "outputs": [],
   "source": [
    "pd_xela_allfiles = pd.read_csv('data.csv', index_col=0)\n",
    "pd_sliplabel_allfiles = pd.read_csv('labels.csv', index_col=0)\n",
    "\n",
    "data = pd_xela_allfiles.to_numpy()\n",
    "labels = pd_sliplabel_allfiles.to_numpy()"
   ]
  },
  {
   "cell_type": "code",
   "execution_count": 14,
   "metadata": {},
   "outputs": [],
   "source": [
    "sc = MinMaxScaler()\n",
    "sc.fit(data)\n",
    "data = sc.transform(data)"
   ]
  },
  {
   "cell_type": "code",
   "execution_count": 4,
   "metadata": {},
   "outputs": [],
   "source": [
    "# data = torch.tensor(data,requires_grad=True)\n",
    "# data_prime = list(torch.split(data,10))\n",
    "\n",
    "# labels = torch.tensor(labels)\n",
    "# label_prime = list(torch.split(labels,10))"
   ]
  },
  {
   "cell_type": "code",
   "execution_count": 15,
   "metadata": {},
   "outputs": [],
   "source": [
    "data_prime = []\n",
    "for t in range(data.shape[0]-9):\n",
    "    data_prime.append(data[t:t+10])\n",
    "data_prime = np.array(data_prime)\n",
    "labels_prime = labels[9:]"
   ]
  },
  {
   "cell_type": "code",
   "execution_count": 16,
   "metadata": {},
   "outputs": [],
   "source": [
    "class LSTM(nn.Module):\n",
    "    def __init__(self,input_features,hidden_features,num_layers):\n",
    "        super(LSTM, self).__init__()\n",
    "        self.lstm = nn.LSTM(input_features,hidden_features,num_layers)\n",
    "        self.linear = nn.Linear(48,1)\n",
    "        self.sigmoid = nn.Sigmoid()\n",
    "        \n",
    "\n",
    "    def forward(self,x):\n",
    "        x = x.float()\n",
    "        hn = torch.nn.init.xavier_normal(torch.empty(1,48))\n",
    "        cn = torch.randn(hn.shape)\n",
    "        outputs,(final_state, cn) = self.lstm(x,(hn,cn))\n",
    "        print(final_state)\n",
    "        return self.sigmoid(self.linear(final_state))"
   ]
  },
  {
   "cell_type": "code",
   "execution_count": 17,
   "metadata": {},
   "outputs": [
    {
     "ename": "NameError",
     "evalue": "name 'lstm' is not defined",
     "output_type": "error",
     "traceback": [
      "\u001b[1;31m---------------------------------------------------------------------------\u001b[0m",
      "\u001b[1;31mNameError\u001b[0m                                 Traceback (most recent call last)",
      "Cell \u001b[1;32mIn [17], line 2\u001b[0m\n\u001b[0;32m      1\u001b[0m model \u001b[39m=\u001b[39m LSTM(\u001b[39m48\u001b[39m,\u001b[39m48\u001b[39m,\u001b[39m1\u001b[39m)\n\u001b[1;32m----> 2\u001b[0m adam_optim \u001b[39m=\u001b[39m torch\u001b[39m.\u001b[39moptim\u001b[39m.\u001b[39mAdam(lstm\u001b[39m.\u001b[39mparameters(),\u001b[39m0.01\u001b[39m,(\u001b[39m0.9\u001b[39m,\u001b[39m0.999\u001b[39m),weight_decay\u001b[39m=\u001b[39m\u001b[39m0.01\u001b[39m)\n\u001b[0;32m      3\u001b[0m criterion \u001b[39m=\u001b[39m nn\u001b[39m.\u001b[39mBCELoss()\n\u001b[0;32m      5\u001b[0m num_epochs \u001b[39m=\u001b[39m \u001b[39m5\u001b[39m\n",
      "\u001b[1;31mNameError\u001b[0m: name 'lstm' is not defined"
     ]
    }
   ],
   "source": [
    "model = LSTM(48,48,1)\n",
    "adam_optim = torch.optim.Adam(lstm.parameters(),0.01,(0.9,0.999),weight_decay=0.01)\n",
    "criterion = nn.BCELoss()\n",
    "\n",
    "num_epochs = 5\n",
    "\n",
    "     # Forward pass\n",
    "for data, in data_prime:\n",
    "    output = model(data)\n",
    "    loss = criterion(output, target)\n",
    "        \n",
    "        # Backward and optimize\n",
    "    optimizer.zero_grad()\n",
    "    loss.backward()\n",
    "    optimizer.step()\n",
    "        \n",
    "    if (epoch+1) % 10 == 0:\n",
    "        print ('Epoch [{}/{}], Loss: {:.4f}'.format(epoch+1, num_epochs, loss.item()))\n"
   ]
  },
  {
   "cell_type": "code",
   "execution_count": 8,
   "metadata": {},
   "outputs": [
    {
     "data": {
      "text/plain": [
       "tensor([[ 0.2725, -0.1623],\n",
       "        [-0.0895,  0.1047]])"
      ]
     },
     "execution_count": 8,
     "metadata": {},
     "output_type": "execute_result"
    }
   ],
   "source": [
    "hn = torch.nn.init.xavier_normal_(torch.empty(2,2))\n",
    "hn\n"
   ]
  },
  {
   "cell_type": "code",
   "execution_count": 156,
   "metadata": {},
   "outputs": [
    {
     "ename": "NameError",
     "evalue": "name 'label_prime' is not defined",
     "output_type": "error",
     "traceback": [
      "\u001b[1;31m---------------------------------------------------------------------------\u001b[0m",
      "\u001b[1;31mNameError\u001b[0m                                 Traceback (most recent call last)",
      "Cell \u001b[1;32mIn [156], line 1\u001b[0m\n\u001b[1;32m----> 1\u001b[0m \u001b[39mfor\u001b[39;00m data,label \u001b[39min\u001b[39;00m \u001b[39mzip\u001b[39m(data_prime,label_prime):\n\u001b[0;32m      2\u001b[0m     \u001b[39mprint\u001b[39m(data,label)\n",
      "\u001b[1;31mNameError\u001b[0m: name 'label_prime' is not defined"
     ]
    }
   ],
   "source": [
    "for data,label in zip(data_prime,label_prime):\n",
    "    print(data,label)"
   ]
  }
 ],
 "metadata": {
  "kernelspec": {
   "display_name": "Python 3",
   "language": "python",
   "name": "python3"
  },
  "language_info": {
   "codemirror_mode": {
    "name": "ipython",
    "version": 3
   },
   "file_extension": ".py",
   "mimetype": "text/x-python",
   "name": "python",
   "nbconvert_exporter": "python",
   "pygments_lexer": "ipython3",
   "version": "3.10.8"
  },
  "orig_nbformat": 4,
  "vscode": {
   "interpreter": {
    "hash": "947f030b3e678118fc438144c1e47ca5c23949e6feee86165ca58c1240ce2eba"
   }
  }
 },
 "nbformat": 4,
 "nbformat_minor": 2
}
