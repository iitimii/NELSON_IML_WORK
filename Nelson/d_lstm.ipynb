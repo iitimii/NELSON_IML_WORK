{
 "cells": [
  {
   "cell_type": "code",
   "execution_count": 46,
   "metadata": {},
   "outputs": [],
   "source": [
    "import torch\n",
    "import torch.nn as nn\n",
    "import torch.nn.functional as F\n",
    "import torch.optim as optim\n",
    "import numpy as np\n",
    "import matplotlib.pyplot as plt\n",
    "import pandas as pd\n",
    "pd.set_option('display.max_columns', 500)\n",
    "from torch.utils.data import Dataset, DataLoader"
   ]
  },
  {
   "cell_type": "code",
   "execution_count": 2,
   "metadata": {},
   "outputs": [],
   "source": [
    "df = pd.read_csv('data.csv')\n",
    "labels = pd.read_csv('labels.csv')"
   ]
  },
  {
   "cell_type": "code",
   "execution_count": 40,
   "metadata": {},
   "outputs": [
    {
     "data": {
      "text/html": [
       "<div>\n",
       "<style scoped>\n",
       "    .dataframe tbody tr th:only-of-type {\n",
       "        vertical-align: middle;\n",
       "    }\n",
       "\n",
       "    .dataframe tbody tr th {\n",
       "        vertical-align: top;\n",
       "    }\n",
       "\n",
       "    .dataframe thead th {\n",
       "        text-align: right;\n",
       "    }\n",
       "</style>\n",
       "<table border=\"1\" class=\"dataframe\">\n",
       "  <thead>\n",
       "    <tr style=\"text-align: right;\">\n",
       "      <th></th>\n",
       "      <th>txl1_x</th>\n",
       "      <th>txl1_y</th>\n",
       "      <th>txl1_z</th>\n",
       "      <th>txl2_x</th>\n",
       "      <th>txl2_y</th>\n",
       "      <th>txl2_z</th>\n",
       "      <th>txl3_x</th>\n",
       "      <th>txl3_y</th>\n",
       "      <th>txl3_z</th>\n",
       "      <th>txl4_x</th>\n",
       "      <th>txl4_y</th>\n",
       "      <th>txl4_z</th>\n",
       "      <th>txl5_x</th>\n",
       "      <th>txl5_y</th>\n",
       "      <th>txl5_z</th>\n",
       "      <th>txl6_x</th>\n",
       "      <th>txl6_y</th>\n",
       "      <th>txl6_z</th>\n",
       "      <th>txl7_x</th>\n",
       "      <th>txl7_y</th>\n",
       "      <th>txl7_z</th>\n",
       "      <th>txl8_x</th>\n",
       "      <th>txl8_y</th>\n",
       "      <th>txl8_z</th>\n",
       "      <th>txl9_x</th>\n",
       "      <th>txl9_y</th>\n",
       "      <th>txl9_z</th>\n",
       "      <th>txl10_x</th>\n",
       "      <th>txl10_y</th>\n",
       "      <th>txl10_z</th>\n",
       "      <th>txl11_x</th>\n",
       "      <th>txl11_y</th>\n",
       "      <th>txl11_z</th>\n",
       "      <th>txl12_x</th>\n",
       "      <th>txl12_y</th>\n",
       "      <th>txl12_z</th>\n",
       "      <th>txl13_x</th>\n",
       "      <th>txl13_y</th>\n",
       "      <th>txl13_z</th>\n",
       "      <th>txl14_x</th>\n",
       "      <th>txl14_y</th>\n",
       "      <th>txl14_z</th>\n",
       "      <th>txl15_x</th>\n",
       "      <th>txl15_y</th>\n",
       "      <th>txl15_z</th>\n",
       "      <th>txl16_x</th>\n",
       "      <th>txl16_y</th>\n",
       "      <th>txl16_z</th>\n",
       "    </tr>\n",
       "  </thead>\n",
       "  <tbody>\n",
       "    <tr>\n",
       "      <th>0</th>\n",
       "      <td>15825.0</td>\n",
       "      <td>16435.0</td>\n",
       "      <td>39825.0</td>\n",
       "      <td>15955.0</td>\n",
       "      <td>16459.0</td>\n",
       "      <td>39477.0</td>\n",
       "      <td>15767.0</td>\n",
       "      <td>16355.0</td>\n",
       "      <td>39049.0</td>\n",
       "      <td>15264.0</td>\n",
       "      <td>16591.0</td>\n",
       "      <td>40432.0</td>\n",
       "      <td>15804.0</td>\n",
       "      <td>16539.0</td>\n",
       "      <td>38817.0</td>\n",
       "      <td>15890.0</td>\n",
       "      <td>16367.0</td>\n",
       "      <td>38264.0</td>\n",
       "      <td>15758.0</td>\n",
       "      <td>16392.0</td>\n",
       "      <td>38276.0</td>\n",
       "      <td>15566.0</td>\n",
       "      <td>16494.0</td>\n",
       "      <td>38594.0</td>\n",
       "      <td>16179.0</td>\n",
       "      <td>16362.0</td>\n",
       "      <td>38096.0</td>\n",
       "      <td>15985.0</td>\n",
       "      <td>16319.0</td>\n",
       "      <td>38264.0</td>\n",
       "      <td>15794.0</td>\n",
       "      <td>16181.0</td>\n",
       "      <td>37601.0</td>\n",
       "      <td>15631.0</td>\n",
       "      <td>16283.0</td>\n",
       "      <td>38356.0</td>\n",
       "      <td>16171.0</td>\n",
       "      <td>16215.0</td>\n",
       "      <td>38774.0</td>\n",
       "      <td>15976.0</td>\n",
       "      <td>16356.0</td>\n",
       "      <td>38258.0</td>\n",
       "      <td>15887.0</td>\n",
       "      <td>16228.0</td>\n",
       "      <td>37885.0</td>\n",
       "      <td>15693.0</td>\n",
       "      <td>16427.0</td>\n",
       "      <td>38642.0</td>\n",
       "    </tr>\n",
       "    <tr>\n",
       "      <th>1</th>\n",
       "      <td>15825.0</td>\n",
       "      <td>16435.0</td>\n",
       "      <td>39825.0</td>\n",
       "      <td>15955.0</td>\n",
       "      <td>16459.0</td>\n",
       "      <td>39477.0</td>\n",
       "      <td>15767.0</td>\n",
       "      <td>16355.0</td>\n",
       "      <td>39049.0</td>\n",
       "      <td>15264.0</td>\n",
       "      <td>16591.0</td>\n",
       "      <td>40432.0</td>\n",
       "      <td>15804.0</td>\n",
       "      <td>16539.0</td>\n",
       "      <td>38817.0</td>\n",
       "      <td>15890.0</td>\n",
       "      <td>16367.0</td>\n",
       "      <td>38264.0</td>\n",
       "      <td>15758.0</td>\n",
       "      <td>16392.0</td>\n",
       "      <td>38276.0</td>\n",
       "      <td>15566.0</td>\n",
       "      <td>16494.0</td>\n",
       "      <td>38594.0</td>\n",
       "      <td>16179.0</td>\n",
       "      <td>16362.0</td>\n",
       "      <td>38096.0</td>\n",
       "      <td>15985.0</td>\n",
       "      <td>16319.0</td>\n",
       "      <td>38264.0</td>\n",
       "      <td>15794.0</td>\n",
       "      <td>16181.0</td>\n",
       "      <td>37601.0</td>\n",
       "      <td>15631.0</td>\n",
       "      <td>16283.0</td>\n",
       "      <td>38356.0</td>\n",
       "      <td>16171.0</td>\n",
       "      <td>16215.0</td>\n",
       "      <td>38774.0</td>\n",
       "      <td>15976.0</td>\n",
       "      <td>16356.0</td>\n",
       "      <td>38258.0</td>\n",
       "      <td>15887.0</td>\n",
       "      <td>16228.0</td>\n",
       "      <td>37885.0</td>\n",
       "      <td>15693.0</td>\n",
       "      <td>16427.0</td>\n",
       "      <td>38642.0</td>\n",
       "    </tr>\n",
       "    <tr>\n",
       "      <th>2</th>\n",
       "      <td>15826.0</td>\n",
       "      <td>16436.0</td>\n",
       "      <td>39818.0</td>\n",
       "      <td>15955.0</td>\n",
       "      <td>16459.0</td>\n",
       "      <td>39482.0</td>\n",
       "      <td>15767.0</td>\n",
       "      <td>16354.0</td>\n",
       "      <td>39049.0</td>\n",
       "      <td>15265.0</td>\n",
       "      <td>16589.0</td>\n",
       "      <td>40434.0</td>\n",
       "      <td>15805.0</td>\n",
       "      <td>16539.0</td>\n",
       "      <td>38812.0</td>\n",
       "      <td>15890.0</td>\n",
       "      <td>16365.0</td>\n",
       "      <td>38264.0</td>\n",
       "      <td>15756.0</td>\n",
       "      <td>16394.0</td>\n",
       "      <td>38277.0</td>\n",
       "      <td>15563.0</td>\n",
       "      <td>16493.0</td>\n",
       "      <td>38594.0</td>\n",
       "      <td>16179.0</td>\n",
       "      <td>16362.0</td>\n",
       "      <td>38092.0</td>\n",
       "      <td>15985.0</td>\n",
       "      <td>16320.0</td>\n",
       "      <td>38265.0</td>\n",
       "      <td>15793.0</td>\n",
       "      <td>16183.0</td>\n",
       "      <td>37597.0</td>\n",
       "      <td>15630.0</td>\n",
       "      <td>16283.0</td>\n",
       "      <td>38347.0</td>\n",
       "      <td>16172.0</td>\n",
       "      <td>16217.0</td>\n",
       "      <td>38777.0</td>\n",
       "      <td>15975.0</td>\n",
       "      <td>16356.0</td>\n",
       "      <td>38252.0</td>\n",
       "      <td>15888.0</td>\n",
       "      <td>16231.0</td>\n",
       "      <td>37885.0</td>\n",
       "      <td>15692.0</td>\n",
       "      <td>16429.0</td>\n",
       "      <td>38641.0</td>\n",
       "    </tr>\n",
       "    <tr>\n",
       "      <th>3</th>\n",
       "      <td>15826.0</td>\n",
       "      <td>16435.0</td>\n",
       "      <td>39826.0</td>\n",
       "      <td>15956.0</td>\n",
       "      <td>16458.0</td>\n",
       "      <td>39478.0</td>\n",
       "      <td>15766.0</td>\n",
       "      <td>16354.0</td>\n",
       "      <td>39051.0</td>\n",
       "      <td>15264.0</td>\n",
       "      <td>16590.0</td>\n",
       "      <td>40438.0</td>\n",
       "      <td>15805.0</td>\n",
       "      <td>16540.0</td>\n",
       "      <td>38812.0</td>\n",
       "      <td>15892.0</td>\n",
       "      <td>16367.0</td>\n",
       "      <td>38269.0</td>\n",
       "      <td>15756.0</td>\n",
       "      <td>16394.0</td>\n",
       "      <td>38277.0</td>\n",
       "      <td>15563.0</td>\n",
       "      <td>16493.0</td>\n",
       "      <td>38594.0</td>\n",
       "      <td>16177.0</td>\n",
       "      <td>16360.0</td>\n",
       "      <td>38099.0</td>\n",
       "      <td>15986.0</td>\n",
       "      <td>16321.0</td>\n",
       "      <td>38265.0</td>\n",
       "      <td>15793.0</td>\n",
       "      <td>16183.0</td>\n",
       "      <td>37599.0</td>\n",
       "      <td>15630.0</td>\n",
       "      <td>16282.0</td>\n",
       "      <td>38353.0</td>\n",
       "      <td>16170.0</td>\n",
       "      <td>16215.0</td>\n",
       "      <td>38776.0</td>\n",
       "      <td>15975.0</td>\n",
       "      <td>16355.0</td>\n",
       "      <td>38257.0</td>\n",
       "      <td>15888.0</td>\n",
       "      <td>16231.0</td>\n",
       "      <td>37885.0</td>\n",
       "      <td>15692.0</td>\n",
       "      <td>16429.0</td>\n",
       "      <td>38641.0</td>\n",
       "    </tr>\n",
       "    <tr>\n",
       "      <th>4</th>\n",
       "      <td>15826.0</td>\n",
       "      <td>16432.0</td>\n",
       "      <td>39827.0</td>\n",
       "      <td>15956.0</td>\n",
       "      <td>16458.0</td>\n",
       "      <td>39483.0</td>\n",
       "      <td>15768.0</td>\n",
       "      <td>16355.0</td>\n",
       "      <td>39051.0</td>\n",
       "      <td>15265.0</td>\n",
       "      <td>16589.0</td>\n",
       "      <td>40437.0</td>\n",
       "      <td>15806.0</td>\n",
       "      <td>16537.0</td>\n",
       "      <td>38811.0</td>\n",
       "      <td>15892.0</td>\n",
       "      <td>16366.0</td>\n",
       "      <td>38263.0</td>\n",
       "      <td>15757.0</td>\n",
       "      <td>16393.0</td>\n",
       "      <td>38283.0</td>\n",
       "      <td>15563.0</td>\n",
       "      <td>16495.0</td>\n",
       "      <td>38593.0</td>\n",
       "      <td>16179.0</td>\n",
       "      <td>16360.0</td>\n",
       "      <td>38092.0</td>\n",
       "      <td>15988.0</td>\n",
       "      <td>16320.0</td>\n",
       "      <td>38271.0</td>\n",
       "      <td>15793.0</td>\n",
       "      <td>16182.0</td>\n",
       "      <td>37601.0</td>\n",
       "      <td>15630.0</td>\n",
       "      <td>16284.0</td>\n",
       "      <td>38350.0</td>\n",
       "      <td>16171.0</td>\n",
       "      <td>16212.0</td>\n",
       "      <td>38774.0</td>\n",
       "      <td>15974.0</td>\n",
       "      <td>16356.0</td>\n",
       "      <td>38257.0</td>\n",
       "      <td>15887.0</td>\n",
       "      <td>16228.0</td>\n",
       "      <td>37884.0</td>\n",
       "      <td>15693.0</td>\n",
       "      <td>16426.0</td>\n",
       "      <td>38641.0</td>\n",
       "    </tr>\n",
       "  </tbody>\n",
       "</table>\n",
       "</div>"
      ],
      "text/plain": [
       "    txl1_x   txl1_y   txl1_z   txl2_x   txl2_y   txl2_z   txl3_x   txl3_y  \\\n",
       "0  15825.0  16435.0  39825.0  15955.0  16459.0  39477.0  15767.0  16355.0   \n",
       "1  15825.0  16435.0  39825.0  15955.0  16459.0  39477.0  15767.0  16355.0   \n",
       "2  15826.0  16436.0  39818.0  15955.0  16459.0  39482.0  15767.0  16354.0   \n",
       "3  15826.0  16435.0  39826.0  15956.0  16458.0  39478.0  15766.0  16354.0   \n",
       "4  15826.0  16432.0  39827.0  15956.0  16458.0  39483.0  15768.0  16355.0   \n",
       "\n",
       "    txl3_z   txl4_x   txl4_y   txl4_z   txl5_x   txl5_y   txl5_z   txl6_x  \\\n",
       "0  39049.0  15264.0  16591.0  40432.0  15804.0  16539.0  38817.0  15890.0   \n",
       "1  39049.0  15264.0  16591.0  40432.0  15804.0  16539.0  38817.0  15890.0   \n",
       "2  39049.0  15265.0  16589.0  40434.0  15805.0  16539.0  38812.0  15890.0   \n",
       "3  39051.0  15264.0  16590.0  40438.0  15805.0  16540.0  38812.0  15892.0   \n",
       "4  39051.0  15265.0  16589.0  40437.0  15806.0  16537.0  38811.0  15892.0   \n",
       "\n",
       "    txl6_y   txl6_z   txl7_x   txl7_y   txl7_z   txl8_x   txl8_y   txl8_z  \\\n",
       "0  16367.0  38264.0  15758.0  16392.0  38276.0  15566.0  16494.0  38594.0   \n",
       "1  16367.0  38264.0  15758.0  16392.0  38276.0  15566.0  16494.0  38594.0   \n",
       "2  16365.0  38264.0  15756.0  16394.0  38277.0  15563.0  16493.0  38594.0   \n",
       "3  16367.0  38269.0  15756.0  16394.0  38277.0  15563.0  16493.0  38594.0   \n",
       "4  16366.0  38263.0  15757.0  16393.0  38283.0  15563.0  16495.0  38593.0   \n",
       "\n",
       "    txl9_x   txl9_y   txl9_z  txl10_x  txl10_y  txl10_z  txl11_x  txl11_y  \\\n",
       "0  16179.0  16362.0  38096.0  15985.0  16319.0  38264.0  15794.0  16181.0   \n",
       "1  16179.0  16362.0  38096.0  15985.0  16319.0  38264.0  15794.0  16181.0   \n",
       "2  16179.0  16362.0  38092.0  15985.0  16320.0  38265.0  15793.0  16183.0   \n",
       "3  16177.0  16360.0  38099.0  15986.0  16321.0  38265.0  15793.0  16183.0   \n",
       "4  16179.0  16360.0  38092.0  15988.0  16320.0  38271.0  15793.0  16182.0   \n",
       "\n",
       "   txl11_z  txl12_x  txl12_y  txl12_z  txl13_x  txl13_y  txl13_z  txl14_x  \\\n",
       "0  37601.0  15631.0  16283.0  38356.0  16171.0  16215.0  38774.0  15976.0   \n",
       "1  37601.0  15631.0  16283.0  38356.0  16171.0  16215.0  38774.0  15976.0   \n",
       "2  37597.0  15630.0  16283.0  38347.0  16172.0  16217.0  38777.0  15975.0   \n",
       "3  37599.0  15630.0  16282.0  38353.0  16170.0  16215.0  38776.0  15975.0   \n",
       "4  37601.0  15630.0  16284.0  38350.0  16171.0  16212.0  38774.0  15974.0   \n",
       "\n",
       "   txl14_y  txl14_z  txl15_x  txl15_y  txl15_z  txl16_x  txl16_y  txl16_z  \n",
       "0  16356.0  38258.0  15887.0  16228.0  37885.0  15693.0  16427.0  38642.0  \n",
       "1  16356.0  38258.0  15887.0  16228.0  37885.0  15693.0  16427.0  38642.0  \n",
       "2  16356.0  38252.0  15888.0  16231.0  37885.0  15692.0  16429.0  38641.0  \n",
       "3  16355.0  38257.0  15888.0  16231.0  37885.0  15692.0  16429.0  38641.0  \n",
       "4  16356.0  38257.0  15887.0  16228.0  37884.0  15693.0  16426.0  38641.0  "
      ]
     },
     "execution_count": 40,
     "metadata": {},
     "output_type": "execute_result"
    }
   ],
   "source": [
    "df.drop(columns=['Unnamed: 0'], inplace=True)\n",
    "df.head()"
   ]
  },
  {
   "cell_type": "code",
   "execution_count": 3,
   "metadata": {},
   "outputs": [
    {
     "name": "stdout",
     "output_type": "stream",
     "text": [
      "<class 'pandas.core.frame.DataFrame'>\n",
      "RangeIndex: 229651 entries, 0 to 229650\n",
      "Data columns (total 49 columns):\n",
      " #   Column      Non-Null Count   Dtype  \n",
      "---  ------      --------------   -----  \n",
      " 0   Unnamed: 0  229651 non-null  int64  \n",
      " 1   txl1_x      229651 non-null  float64\n",
      " 2   txl1_y      229651 non-null  float64\n",
      " 3   txl1_z      229651 non-null  float64\n",
      " 4   txl2_x      229651 non-null  float64\n",
      " 5   txl2_y      229651 non-null  float64\n",
      " 6   txl2_z      229651 non-null  float64\n",
      " 7   txl3_x      229651 non-null  float64\n",
      " 8   txl3_y      229651 non-null  float64\n",
      " 9   txl3_z      229651 non-null  float64\n",
      " 10  txl4_x      229651 non-null  float64\n",
      " 11  txl4_y      229651 non-null  float64\n",
      " 12  txl4_z      229651 non-null  float64\n",
      " 13  txl5_x      229651 non-null  float64\n",
      " 14  txl5_y      229651 non-null  float64\n",
      " 15  txl5_z      229651 non-null  float64\n",
      " 16  txl6_x      229651 non-null  float64\n",
      " 17  txl6_y      229651 non-null  float64\n",
      " 18  txl6_z      229651 non-null  float64\n",
      " 19  txl7_x      229651 non-null  float64\n",
      " 20  txl7_y      229651 non-null  float64\n",
      " 21  txl7_z      229651 non-null  float64\n",
      " 22  txl8_x      229651 non-null  float64\n",
      " 23  txl8_y      229651 non-null  float64\n",
      " 24  txl8_z      229651 non-null  float64\n",
      " 25  txl9_x      229651 non-null  float64\n",
      " 26  txl9_y      229651 non-null  float64\n",
      " 27  txl9_z      229651 non-null  float64\n",
      " 28  txl10_x     229651 non-null  float64\n",
      " 29  txl10_y     229651 non-null  float64\n",
      " 30  txl10_z     229651 non-null  float64\n",
      " 31  txl11_x     229651 non-null  float64\n",
      " 32  txl11_y     229651 non-null  float64\n",
      " 33  txl11_z     229651 non-null  float64\n",
      " 34  txl12_x     229651 non-null  float64\n",
      " 35  txl12_y     229651 non-null  float64\n",
      " 36  txl12_z     229651 non-null  float64\n",
      " 37  txl13_x     229651 non-null  float64\n",
      " 38  txl13_y     229651 non-null  float64\n",
      " 39  txl13_z     229651 non-null  float64\n",
      " 40  txl14_x     229651 non-null  float64\n",
      " 41  txl14_y     229651 non-null  float64\n",
      " 42  txl14_z     229651 non-null  float64\n",
      " 43  txl15_x     229651 non-null  float64\n",
      " 44  txl15_y     229651 non-null  float64\n",
      " 45  txl15_z     229651 non-null  float64\n",
      " 46  txl16_x     229651 non-null  float64\n",
      " 47  txl16_y     229651 non-null  float64\n",
      " 48  txl16_z     229651 non-null  float64\n",
      "dtypes: float64(48), int64(1)\n",
      "memory usage: 85.9 MB\n"
     ]
    }
   ],
   "source": [
    "df.info()"
   ]
  },
  {
   "cell_type": "code",
   "execution_count": 7,
   "metadata": {},
   "outputs": [],
   "source": [
    "labels.drop(columns=['Unnamed: 0'], inplace=True)"
   ]
  },
  {
   "cell_type": "code",
   "execution_count": 9,
   "metadata": {},
   "outputs": [
    {
     "data": {
      "text/plain": [
       "<AxesSubplot: >"
      ]
     },
     "execution_count": 9,
     "metadata": {},
     "output_type": "execute_result"
    },
    {
     "data": {
      "image/png": "[encoded data removed]",
      "text/plain": [
       "<Figure size 1500x500 with 1 Axes>"
      ]
     },
     "metadata": {},
     "output_type": "display_data"
    }
   ],
   "source": [
    "labels.plot(figsize=(15, 5))"
   ]
  },
  {
   "cell_type": "code",
   "execution_count": 32,
   "metadata": {},
   "outputs": [
    {
     "data": {
      "text/plain": [
       "143435"
      ]
     },
     "execution_count": 32,
     "metadata": {},
     "output_type": "execute_result"
    }
   ],
   "source": [
    "labels['slip'].ne(0).idxmax()"
   ]
  },
  {
   "cell_type": "code",
   "execution_count": 34,
   "metadata": {},
   "outputs": [
    {
     "data": {
      "text/plain": [
       "<AxesSubplot: >"
      ]
     },
     "execution_count": 34,
     "metadata": {},
     "output_type": "execute_result"
    },
    {
     "data": {
      "image/png": "[encoded data removed]",
      "text/plain": [
       "<Figure size 640x480 with 1 Axes>"
      ]
     },
     "metadata": {},
     "output_type": "display_data"
    }
   ],
   "source": [
    "labels.loc[labels.index > 143435].plot()"
   ]
  },
  {
   "cell_type": "code",
   "execution_count": 43,
   "metadata": {},
   "outputs": [],
   "source": [
    "X = df.values\n",
    "y = labels.values"
   ]
  },
  {
   "cell_type": "code",
   "execution_count": 45,
   "metadata": {},
   "outputs": [
    {
     "data": {
      "text/plain": [
       "((229651, 48), (229651, 1))"
      ]
     },
     "execution_count": 45,
     "metadata": {},
     "output_type": "execute_result"
    }
   ],
   "source": [
    "X.shape, y.shape"
   ]
  },
  {
   "cell_type": "code",
   "execution_count": 47,
   "metadata": {},
   "outputs": [
    {
     "data": {
      "text/plain": [
       "229651"
      ]
     },
     "execution_count": 47,
     "metadata": {},
     "output_type": "execute_result"
    }
   ],
   "source": [
    "X.__len__()"
   ]
  },
  {
   "cell_type": "code",
   "execution_count": 48,
   "metadata": {},
   "outputs": [],
   "source": [
    "class seq_dataset(Dataset):\n",
    "    def __init__(self, X, y, seq_len):\n",
    "        self.X = X\n",
    "        self.y = y\n",
    "        self.seq_len = seq_len\n",
    "    def __len__(self):\n",
    "        return self.X.__len__() - (self.seq_len-1)\n",
    "    def __getitem__(self, index):\n",
    "        return self.X[index:index+self.seq_len], self.y[index+self.seq_len-1]"
   ]
  },
  {
   "cell_type": "code",
   "execution_count": 59,
   "metadata": {},
   "outputs": [],
   "source": [
    "dataset = seq_dataset(X, y, 10)\n",
    "loader = DataLoader(dataset, batch_size=32)"
   ]
  },
  {
   "cell_type": "code",
   "execution_count": 65,
   "metadata": {},
   "outputs": [
    {
     "name": "stdout",
     "output_type": "stream",
     "text": [
      "torch.Size([32, 10, 48])\n"
     ]
    }
   ],
   "source": [
    "for i in loader:\n",
    "    print(i[0].shape)\n",
    "    break"
   ]
  }
 ],
 "metadata": {
  "kernelspec": {
   "display_name": "Python 3",
   "language": "python",
   "name": "python3"
  },
  "language_info": {
   "codemirror_mode": {
    "name": "ipython",
    "version": 3
   },
   "file_extension": ".py",
   "mimetype": "text/x-python",
   "name": "python",
   "nbconvert_exporter": "python",
   "pygments_lexer": "ipython3",
   "version": "3.10.8"
  },
  "orig_nbformat": 4
 },
 "nbformat": 4,
 "nbformat_minor": 2
}
