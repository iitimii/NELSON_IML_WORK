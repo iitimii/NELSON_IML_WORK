{
 "cells": [
  {
   "cell_type": "code",
   "execution_count": null,
   "metadata": {},
   "outputs": [],
   "source": [
    "import pandas as pd\n",
    "\n",
    "import numpy as np\n",
    "\n",
    "import matplotlib.pyplot as plt\n",
    "\n",
    "%matplotlib inline"
   ]
  },
  {
   "cell_type": "code",
   "execution_count": null,
   "metadata": {},
   "outputs": [],
   "source": [
    "dfz = pd.read_csv('xela_sensor2.csv')\n",
    "dfx =  pd.read_csv('xela_sensor2.csv')\n",
    "dfy =  pd.read_csv('xela_sensor2.csv')"
   ]
  },
  {
   "cell_type": "code",
   "execution_count": null,
   "metadata": {},
   "outputs": [],
   "source": [
    "#get all the rows of txl1_z to txl16_z\n",
    "\n",
    "#df.shape (get the number of columns)\n",
    "dfz = dfz.iloc[ :, range(2, 48, 3)]\n",
    "dfx = dfx.iloc[ :, range(0, 48, 3)]\n",
    "dfy = dfy.iloc[ :, range(1, 48, 3)]\n",
    "\n",
    "\n",
    "\n",
    "\n"
   ]
  },
  {
   "cell_type": "code",
   "execution_count": null,
   "metadata": {},
   "outputs": [],
   "source": [
    "#Normalize the data by getting the first element in every column and subracting it from each element in the column\n",
    "#Normalize every data frame\n",
    "\n",
    "def norm_df(dframe):\n",
    "\n",
    "    for columns in dframe.columns:\n",
    "        #to get the lowest element in each column -> num = df.iloc[0, value].min()\n",
    "        #let's get the first element in each column\n",
    "        num = dframe.loc[0, columns]\n",
    "        dframe[columns] -= num\n",
    "\n",
    "norm_df(dfz)\n",
    "norm_df(dfx)\n",
    "norm_df(dfy)\n"
   ]
  },
  {
   "cell_type": "code",
   "execution_count": null,
   "metadata": {},
   "outputs": [],
   "source": [
    "#plot data for each row of taxl1z-16z data\n",
    "#Mesh Plot\n",
    "\n",
    "%matplotlib inline\n",
    "%matplotlib notebook\n",
    "import ipyvolume as ipv\n",
    "\n",
    "row_index = 10\n",
    "\n",
    "\n",
    "zz = dfz.iloc[row_index]\n",
    "a = np.linspace(-4, 4, 4)\n",
    "U, V = np.meshgrid(a,a)\n",
    "X = U\n",
    "Y = V\n",
    "\n",
    "zzreshape = np.reshape(np.array(zz), (4, 4))\n",
    "ipv.figure()\n",
    "ipv.plot_surface(X, Y, zzreshape, color=\"orange\")\n",
    "#ipv.plot_wireframe(X, zzreshape, Y, color=\"red\")\n",
    "\n",
    "ipv.show()\n",
    "\n",
    "row_index += 1"
   ]
  },
  {
   "cell_type": "code",
   "execution_count": null,
   "metadata": {},
   "outputs": [],
   "source": [
    "#plot data for each row of taxl1x-16x data\n",
    "row_index = 0\n",
    "\n",
    "\n",
    "while (row_index < len(dfx.columns)):\n",
    "   \n",
    "    xx = dfx.iloc[row_index]\n",
    "    a = np.linspace(-4, 4, 4)\n",
    "    U, V = np.meshgrid(a,a)\n",
    "    X = U\n",
    "    Y = V\n",
    "\n",
    "    xxreshape = np.reshape(np.array(xx), (4, 4))\n",
    "    ipv.figure()\n",
    "    ipv.plot_surface(X, Y, xxreshape, color=\"yello\")\n",
    "    #ipv.plot_wireframe(X, zzreshape, Y, color=\"red\")\n",
    "    ipv.show()\n",
    "\n",
    "    row_index += 1"
   ]
  },
  {
   "cell_type": "code",
   "execution_count": null,
   "metadata": {},
   "outputs": [],
   "source": [
    "#plot data for each row of taxl1y-16y data\n",
    "row_index = 0\n",
    "\n",
    "\n",
    "while (row_index < len(dfy.columns)):\n",
    "   \n",
    "    yy = dfy.iloc[row_index]\n",
    "    a = np.linspace(-4, 4, 4)\n",
    "    U, V = np.meshgrid(a,a)\n",
    "    X = U\n",
    "    Y = V\n",
    "\n",
    "    yyreshape = np.reshape(np.array(yy), (4, 4))\n",
    "    ipv.figure()\n",
    "    ipv.plot_surface(X, yyreshape, Y, color=\"orange\")\n",
    "    #ipv.plot_wireframe(X, zzreshape, Y, color=\"red\")\n",
    "    ipv.show()\n",
    "\n",
    "    row_index += 1"
   ]
  },
  {
   "cell_type": "code",
   "execution_count": null,
   "metadata": {},
   "outputs": [],
   "source": [
    "#plotly and cufflinks\n",
    "from plotly import __version__\n",
    "from plotly.offline import download_plotlyjs, init_notebook_mode, plot, iplot\n",
    "\n",
    "print(__version__) # requires version >= 1.9.0"
   ]
  },
  {
   "cell_type": "code",
   "execution_count": null,
   "metadata": {},
   "outputs": [],
   "source": [
    "import cufflinks as cf\n",
    "# For Notebooks\n",
    "init_notebook_mode(connected=True)\n",
    "# For offline use\n",
    "cf.go_offline()"
   ]
  },
  {
   "cell_type": "code",
   "execution_count": null,
   "metadata": {},
   "outputs": [],
   "source": [
    "#3d surface\n",
    "df3 = pd.DataFrame({'x':[1,2,3,4,5],'y':[10,20,30,20,10],'z':[5,4,3,2,1]})\n",
    "df3.iplot(kind='surface',colorscale='rdylbu')"
   ]
  },
  {
   "cell_type": "code",
   "execution_count": null,
   "metadata": {},
   "outputs": [],
   "source": []
  }
 ],
 "metadata": {
  "kernelspec": {
   "display_name": "Python 3 (ipykernel)",
   "language": "python",
   "name": "python3"
  },
  "language_info": {
   "codemirror_mode": {
    "name": "ipython",
    "version": 3
   },
   "file_extension": ".py",
   "mimetype": "text/x-python",
   "name": "python",
   "nbconvert_exporter": "python",
   "pygments_lexer": "ipython3",
   "version": "3.8.13"
  },
  "vscode": {
   "interpreter": {
    "hash": "173c0cb41f479ae2d1f90bf66f9ae3aceca0c8feada6413b4ebace4131a19a6b"
   }
  }
 },
 "nbformat": 4,
 "nbformat_minor": 2
}
