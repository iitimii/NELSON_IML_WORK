{
 "cells": [
  {
   "cell_type": "code",
   "execution_count": 113,
   "metadata": {},
   "outputs": [],
   "source": [
    "import torch\n",
    "import torch.nn as nn\n",
    "import torch.nn.functional as F\n",
    "import torch.optim as optim\n",
    "import torchvision.transforms as transforms\n",
    "import numpy as np\n",
    "import pandas as pd\n",
    "from sklearn.preprocessing import MinMaxScaler, StandardScaler\n",
    "from sklearn.model_selection import train_test_split\n",
    "from torch.utils.data import DataLoader, Dataset \n",
    "import matplotlib.pyplot as plt\n"
   ]
  },
  {
   "cell_type": "code",
   "execution_count": 114,
   "metadata": {},
   "outputs": [],
   "source": [
    "sc = MinMaxScaler(feature_range=(0,1))\n",
    "pd_xela_allfiles = pd.read_csv('data.csv', index_col=0)\n",
    "pd_sliplabel_allfiles = pd.read_csv('labels.csv', index_col=0)\n",
    "\n",
    "data = pd_xela_allfiles.to_numpy()\n",
    "labels = pd_sliplabel_allfiles.to_numpy()\n"
   ]
  },
  {
   "cell_type": "code",
   "execution_count": 115,
   "metadata": {},
   "outputs": [
    {
     "data": {
      "text/plain": [
       "<AxesSubplot: >"
      ]
     },
     "execution_count": 115,
     "metadata": {},
     "output_type": "execute_result"
    },
    {
     "data": {
      "image/png": "[encoded data removed]",
      "text/plain": [
       "<Figure size 640x480 with 1 Axes>"
      ]
     },
     "metadata": {},
     "output_type": "display_data"
    }
   ],
   "source": [
    "pd_sliplabel_allfiles.slip.value_counts().plot(kind='bar')"
   ]
  },
  {
   "cell_type": "code",
   "execution_count": 116,
   "metadata": {},
   "outputs": [],
   "source": [
    "# features = pd_xela_allfiles.columns.to_list()\n",
    "# features"
   ]
  },
  {
   "cell_type": "code",
   "execution_count": 117,
   "metadata": {},
   "outputs": [],
   "source": [
    "data = sc.fit_transform(data)"
   ]
  },
  {
   "cell_type": "code",
   "execution_count": 118,
   "metadata": {},
   "outputs": [
    {
     "data": {
      "text/plain": [
       "((229651, 48), (229651, 1))"
      ]
     },
     "execution_count": 118,
     "metadata": {},
     "output_type": "execute_result"
    }
   ],
   "source": [
    "(data.shape, labels.shape)"
   ]
  },
  {
   "cell_type": "code",
   "execution_count": 119,
   "metadata": {},
   "outputs": [],
   "source": [
    "data_prime = []\n",
    "for t in range(data.shape[0]-9):\n",
    "    data_prime.append(data[t:t+10])\n",
    "data_prime = np.array(data_prime)\n",
    "label_prime = labels[9:]"
   ]
  },
  {
   "cell_type": "code",
   "execution_count": 120,
   "metadata": {},
   "outputs": [
    {
     "data": {
      "text/plain": [
       "((229642, 10, 48), (229642, 1))"
      ]
     },
     "execution_count": 120,
     "metadata": {},
     "output_type": "execute_result"
    }
   ],
   "source": [
    "(data_prime.shape, \n",
    "label_prime.shape)"
   ]
  },
  {
   "cell_type": "code",
   "execution_count": 121,
   "metadata": {},
   "outputs": [],
   "source": [
    "X_train, X_test, y_train, y_test = train_test_split(data_prime, label_prime, test_size=0.2)"
   ]
  },
  {
   "cell_type": "code",
   "execution_count": 122,
   "metadata": {},
   "outputs": [],
   "source": [
    "class lsdataset(Dataset):\n",
    "    def __init__(self, data, label):\n",
    "        self.data = data\n",
    "        self.label = label\n",
    "    \n",
    "    def __len__(self):\n",
    "        return len(self.label)\n",
    "\n",
    "    def __getitem__(self, idx):\n",
    "        dat, lab =  self.data[idx], self.label[idx]\n",
    "        return torch.Tensor(dat), torch.Tensor(lab)\n",
    "\n",
    "train_dataset = lsdataset(X_train, y_train)\n",
    "test_dataset = lsdataset(X_test, y_test)\n",
    "\n",
    "train_dataloader = DataLoader(dataset=train_dataset, batch_size=32, shuffle=True)\n",
    "test_dataloader = DataLoader(dataset=test_dataset, batch_size=32, shuffle=True)\n",
    "\n",
    "device = 'cpu'\n",
    "batch_size = 32"
   ]
  },
  {
   "cell_type": "code",
   "execution_count": 123,
   "metadata": {},
   "outputs": [],
   "source": [
    "# train_size = int(data.shape[0] * 0.7)\n",
    "# test_size = data.shape[0] - train_size\n",
    "# train_data, test_data = data[0:train_size, :], data[train_size:data.shape[0], :]"
   ]
  },
  {
   "cell_type": "code",
   "execution_count": 124,
   "metadata": {},
   "outputs": [],
   "source": [
    "# class lsdataset(Dataset):\n",
    "#     def __init__(self, data, seq=10):\n",
    "#         self.data = torch.from_numpy(data).float().view(-1,48)\n",
    "#         self.seq = seq\n",
    "#     def __len__(self):\n",
    "#         return len(self.data)-self.seq-1\n",
    "#     def __getitem__(self, index):\n",
    "#         return self.data[index: index + self.seq], self.data[index+self.seq]\n",
    "\n",
    "# train_dataset = lsdataset(X_train)\n",
    "# test_dataset = lsdataset(X)\n"
   ]
  },
  {
   "cell_type": "code",
   "execution_count": 125,
   "metadata": {},
   "outputs": [],
   "source": [
    "# batch_size = 32\n",
    "# train_dataloader = DataLoader(train_dataset, batch_size, drop_last=True)\n",
    "# test_dataloader = DataLoader(test_dataset, batch_size, drop_last=True)\n",
    "\n",
    "# device = 'cpu'"
   ]
  },
  {
   "cell_type": "code",
   "execution_count": 126,
   "metadata": {},
   "outputs": [
    {
     "name": "stdout",
     "output_type": "stream",
     "text": [
      "[tensor([[[0.6065, 0.8422, 0.2207,  ..., 0.7000, 0.0529, 0.4944],\n",
      "          [0.6004, 0.8551, 0.2240,  ..., 0.6941, 0.0575, 0.4889],\n",
      "          [0.6004, 0.8551, 0.2240,  ..., 0.6941, 0.0575, 0.4889],\n",
      "          ...,\n",
      "          [0.6266, 0.8049, 0.2131,  ..., 0.6353, 0.1172, 0.4951],\n",
      "          [0.6266, 0.8049, 0.2131,  ..., 0.6353, 0.1172, 0.4951],\n",
      "          [0.6347, 0.7891, 0.2157,  ..., 0.6137, 0.1494, 0.4874]],\n",
      "\n",
      "         [[0.1877, 0.7088, 0.4981,  ..., 0.7333, 0.1885, 0.3790],\n",
      "          [0.1877, 0.6973, 0.4848,  ..., 0.7196, 0.1747, 0.3841],\n",
      "          [0.1877, 0.6973, 0.4848,  ..., 0.7196, 0.1747, 0.3841],\n",
      "          ...,\n",
      "          [0.1917, 0.6872, 0.4938,  ..., 0.7176, 0.1931, 0.3834],\n",
      "          [0.1917, 0.6872, 0.4938,  ..., 0.7176, 0.1931, 0.3834],\n",
      "          [0.1988, 0.6772, 0.4835,  ..., 0.7157, 0.1793, 0.3870]],\n",
      "\n",
      "         [[0.7043, 0.7303, 0.1223,  ..., 0.6725, 0.3310, 0.4205],\n",
      "          [0.6973, 0.7374, 0.1221,  ..., 0.6784, 0.3172, 0.4267],\n",
      "          [0.6932, 0.7432, 0.1227,  ..., 0.6902, 0.3126, 0.4271],\n",
      "          ...,\n",
      "          [0.6973, 0.7418, 0.1254,  ..., 0.6902, 0.3149, 0.4216],\n",
      "          [0.7013, 0.7418, 0.1239,  ..., 0.6902, 0.3149, 0.4216],\n",
      "          [0.7013, 0.7374, 0.1231,  ..., 0.6784, 0.3218, 0.4205]],\n",
      "\n",
      "         ...,\n",
      "\n",
      "         [[0.5772, 0.7245, 0.2279,  ..., 0.6196, 0.2253, 0.4198],\n",
      "          [0.5762, 0.7188, 0.2273,  ..., 0.6216, 0.2184, 0.4212],\n",
      "          [0.5762, 0.7188, 0.2273,  ..., 0.6216, 0.2184, 0.4212],\n",
      "          ...,\n",
      "          [0.5822, 0.7274, 0.2338,  ..., 0.6431, 0.2253, 0.4231],\n",
      "          [0.5843, 0.7245, 0.2369,  ..., 0.6431, 0.2253, 0.4231],\n",
      "          [0.5843, 0.7217, 0.2353,  ..., 0.6333, 0.2253, 0.4220]],\n",
      "\n",
      "         [[0.6337, 0.7719, 0.2067,  ..., 0.8000, 0.0920, 0.3820],\n",
      "          [0.6428, 0.7690, 0.1960,  ..., 0.7941, 0.0920, 0.3794],\n",
      "          [0.6529, 0.7862, 0.1844,  ..., 0.7490, 0.1149, 0.3972],\n",
      "          ...,\n",
      "          [0.6761, 0.7877, 0.1620,  ..., 0.7235, 0.1563, 0.4143],\n",
      "          [0.6831, 0.8034, 0.1680,  ..., 0.7608, 0.1770, 0.4031],\n",
      "          [0.6801, 0.8020, 0.1628,  ..., 0.7314, 0.1540, 0.4096]],\n",
      "\n",
      "         [[0.6801, 0.6901, 0.1824,  ..., 0.6039, 0.2851, 0.4874],\n",
      "          [0.6821, 0.6844, 0.1840,  ..., 0.6039, 0.2851, 0.4874],\n",
      "          [0.6852, 0.6801, 0.1840,  ..., 0.5941, 0.2966, 0.4856],\n",
      "          ...,\n",
      "          [0.6942, 0.6643, 0.1836,  ..., 0.5686, 0.3149, 0.4820],\n",
      "          [0.6942, 0.6628, 0.1830,  ..., 0.5686, 0.3172, 0.4805],\n",
      "          [0.6942, 0.6628, 0.1832,  ..., 0.5725, 0.3172, 0.4809]]])\n",
      " tensor([[0.],\n",
      "         [0.],\n",
      "         [0.],\n",
      "         [0.],\n",
      "         [1.],\n",
      "         [0.],\n",
      "         [0.],\n",
      "         [0.],\n",
      "         [0.],\n",
      "         [0.],\n",
      "         [0.],\n",
      "         [0.],\n",
      "         [0.],\n",
      "         [0.],\n",
      "         [0.],\n",
      "         [0.],\n",
      "         [0.],\n",
      "         [0.],\n",
      "         [1.],\n",
      "         [0.],\n",
      "         [0.],\n",
      "         [1.],\n",
      "         [0.],\n",
      "         [0.],\n",
      "         [0.],\n",
      "         [0.],\n",
      "         [0.],\n",
      "         [0.],\n",
      "         [0.],\n",
      "         [0.],\n",
      "         [0.],\n",
      "         [0.]])]\n"
     ]
    },
    {
     "name": "stderr",
     "output_type": "stream",
     "text": [
      "C:\\Users\\Timii\\AppData\\Local\\Temp\\ipykernel_1052\\2999413704.py:2: FutureWarning: The input object of type 'Tensor' is an array-like implementing one of the corresponding protocols (`__array__`, `__array_interface__` or `__array_struct__`); but not a sequence (or 0-D). In the future, this object will be coerced as if it was first converted using `np.array(obj)`. To retain the old behaviour, you have to either modify the type 'Tensor', or assign to an empty array created with `np.empty(correct_shape, dtype=object)`.\n",
      "  print(np.array(item, dtype=object))\n"
     ]
    }
   ],
   "source": [
    "for item in train_dataloader:\n",
    "    print(np.array(item, dtype=object))\n",
    "    break"
   ]
  },
  {
   "cell_type": "code",
   "execution_count": 131,
   "metadata": {},
   "outputs": [],
   "source": [
    "class LSTM_model(nn.Module):\n",
    "    def __init__(self, input_size, hidden_size, n_layers):\n",
    "        super(LSTM_model, self).__init__()\n",
    "        self.n_layers = n_layers\n",
    "        self.input_size = input_size\n",
    "        self.hidden_size = hidden_size\n",
    "        self.lstm = nn.LSTM(input_size=input_size, hidden_size=hidden_size, num_layers=n_layers, batch_first = True)\n",
    "        self.fc = nn.Linear(hidden_size, 1)\n",
    "\n",
    "    def forward(self, x, hn, cn):\n",
    "        out, hn, cn = self.lstm(x, (hn,cn))\n",
    "        final_out = self.fc(out[-1])\n",
    "        final_out = F.sigmoid(final_out)\n",
    "        return final_out, (hn, cn)\n",
    "\n",
    "    def init(self):\n",
    "        h0 = torch.zeros(self.n_layers, batch_size, self.hidden_size).to(device)\n",
    "        c0 = torch.zeros(self.n_layers, batch_size, self.hidden_size).to(device)\n",
    "        return h0, c0\n",
    "\n",
    "    # def predict(self, x):\n",
    "    #     hn, cn = self.init()\n",
    "\n",
    "\n",
    "input_size = 48\n",
    "n_layers = 1\n",
    "hidden_size = 48\n",
    "\n",
    "model = LSTM_model(input_size, hidden_size, n_layers).to(device)\n",
    "\n",
    "loss_fn = nn.BCELoss()\n",
    "optimizer = optim.Adam(model.parameters(), lr=0.001)\n"
   ]
  },
  {
   "cell_type": "code",
   "execution_count": 132,
   "metadata": {},
   "outputs": [],
   "source": [
    "seq = 10\n",
    "def train(dataloader):\n",
    "    hn, cn = model.init()\n",
    "    model.train()\n",
    "    for x, y in dataloader:\n",
    "        x = x.to(device)\n",
    "        y = y.to(device)\n",
    "        out, hn, cn = model(x, (hn, cn))\n",
    "        loss = loss_fn(out.reshape(batch_size), y)\n",
    "        hn = hn.detach()\n",
    "        cn = cn.detach()\n",
    "        optimizer.zero_grad()\n",
    "        loss.backward()\n",
    "        optimizer.step()\n",
    "        loss = loss.item()\n",
    "        print(f'train loss: {loss:>7f}')"
   ]
  },
  {
   "cell_type": "code",
   "execution_count": 133,
   "metadata": {},
   "outputs": [],
   "source": [
    "def test(dataloader):\n",
    "    hn, cn = model.init()\n",
    "    model.eval()\n",
    "    for  x, y in dataloader:\n",
    "        x = x.to(device)\n",
    "        y = y.to(device)\n",
    "        out, hn, cn = model(x, (hn, cn))\n",
    "        loss = loss_fn(out.reshape(batch_size), y)\n",
    "        loss = loss.item()\n",
    "        print(f'train loss: {loss:>7f}')"
   ]
  },
  {
   "cell_type": "code",
   "execution_count": 134,
   "metadata": {},
   "outputs": [
    {
     "name": "stdout",
     "output_type": "stream",
     "text": [
      "epoch: 0\n"
     ]
    },
    {
     "ename": "TypeError",
     "evalue": "LSTM_model.forward() missing 1 required positional argument: 'cn'",
     "output_type": "error",
     "traceback": [
      "\u001b[1;31m---------------------------------------------------------------------------\u001b[0m",
      "\u001b[1;31mTypeError\u001b[0m                                 Traceback (most recent call last)",
      "Cell \u001b[1;32mIn [134], line 5\u001b[0m\n\u001b[0;32m      3\u001b[0m \u001b[39mfor\u001b[39;00m epoch \u001b[39min\u001b[39;00m \u001b[39mrange\u001b[39m(epochs):\n\u001b[0;32m      4\u001b[0m     \u001b[39mprint\u001b[39m(\u001b[39mf\u001b[39m\u001b[39m'\u001b[39m\u001b[39mepoch: \u001b[39m\u001b[39m{\u001b[39;00mepoch\u001b[39m}\u001b[39;00m\u001b[39m'\u001b[39m)\n\u001b[1;32m----> 5\u001b[0m     train(train_dataloader)\n\u001b[0;32m      6\u001b[0m     test(test_dataloader)\n",
      "Cell \u001b[1;32mIn [132], line 8\u001b[0m, in \u001b[0;36mtrain\u001b[1;34m(dataloader)\u001b[0m\n\u001b[0;32m      6\u001b[0m x \u001b[39m=\u001b[39m x\u001b[39m.\u001b[39mto(device)\n\u001b[0;32m      7\u001b[0m y \u001b[39m=\u001b[39m y\u001b[39m.\u001b[39mto(device)\n\u001b[1;32m----> 8\u001b[0m out, hn, cn \u001b[39m=\u001b[39m model(x, (hn, cn))\n\u001b[0;32m      9\u001b[0m loss \u001b[39m=\u001b[39m loss_fn(out\u001b[39m.\u001b[39mreshape(batch_size), y)\n\u001b[0;32m     10\u001b[0m hn \u001b[39m=\u001b[39m hn\u001b[39m.\u001b[39mdetach()\n",
      "File \u001b[1;32mc:\\Users\\Timii\\AppData\\Local\\Programs\\Python\\Python310\\lib\\site-packages\\torch\\nn\\modules\\module.py:1194\u001b[0m, in \u001b[0;36mModule._call_impl\u001b[1;34m(self, *input, **kwargs)\u001b[0m\n\u001b[0;32m   1190\u001b[0m \u001b[39m# If we don't have any hooks, we want to skip the rest of the logic in\u001b[39;00m\n\u001b[0;32m   1191\u001b[0m \u001b[39m# this function, and just call forward.\u001b[39;00m\n\u001b[0;32m   1192\u001b[0m \u001b[39mif\u001b[39;00m \u001b[39mnot\u001b[39;00m (\u001b[39mself\u001b[39m\u001b[39m.\u001b[39m_backward_hooks \u001b[39mor\u001b[39;00m \u001b[39mself\u001b[39m\u001b[39m.\u001b[39m_forward_hooks \u001b[39mor\u001b[39;00m \u001b[39mself\u001b[39m\u001b[39m.\u001b[39m_forward_pre_hooks \u001b[39mor\u001b[39;00m _global_backward_hooks\n\u001b[0;32m   1193\u001b[0m         \u001b[39mor\u001b[39;00m _global_forward_hooks \u001b[39mor\u001b[39;00m _global_forward_pre_hooks):\n\u001b[1;32m-> 1194\u001b[0m     \u001b[39mreturn\u001b[39;00m forward_call(\u001b[39m*\u001b[39m\u001b[39minput\u001b[39m, \u001b[39m*\u001b[39m\u001b[39m*\u001b[39mkwargs)\n\u001b[0;32m   1195\u001b[0m \u001b[39m# Do not call functions when jit is used\u001b[39;00m\n\u001b[0;32m   1196\u001b[0m full_backward_hooks, non_full_backward_hooks \u001b[39m=\u001b[39m [], []\n",
      "\u001b[1;31mTypeError\u001b[0m: LSTM_model.forward() missing 1 required positional argument: 'cn'"
     ]
    }
   ],
   "source": [
    "epochs = 3\n",
    "\n",
    "for epoch in range(epochs):\n",
    "    print(f'epoch: {epoch}')\n",
    "    train(train_dataloader)\n",
    "    test(test_dataloader)"
   ]
  },
  {
   "cell_type": "code",
   "execution_count": null,
   "metadata": {},
   "outputs": [],
   "source": []
  }
 ],
 "metadata": {
  "kernelspec": {
   "display_name": "Python 3",
   "language": "python",
   "name": "python3"
  },
  "language_info": {
   "codemirror_mode": {
    "name": "ipython",
    "version": 3
   },
   "file_extension": ".py",
   "mimetype": "text/x-python",
   "name": "python",
   "nbconvert_exporter": "python",
   "pygments_lexer": "ipython3",
   "version": "3.10.8"
  },
  "orig_nbformat": 4,
  "vscode": {
   "interpreter": {
    "hash": "947f030b3e678118fc438144c1e47ca5c23949e6feee86165ca58c1240ce2eba"
   }
  }
 },
 "nbformat": 4,
 "nbformat_minor": 2
}
