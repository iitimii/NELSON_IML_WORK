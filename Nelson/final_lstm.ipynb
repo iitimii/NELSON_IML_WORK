{
 "cells": [
  {
   "cell_type": "code",
   "execution_count": 1,
   "metadata": {},
   "outputs": [
    {
     "ename": "KeyboardInterrupt",
     "evalue": "",
     "output_type": "error",
     "traceback": [
      "\u001b[1;31m---------------------------------------------------------------------------\u001b[0m",
      "\u001b[1;31mKeyboardInterrupt\u001b[0m                         Traceback (most recent call last)",
      "\u001b[1;32mc:\\Users\\Timii\\Documents\\Dev\\Nelson\\final_lstm.ipynb Cell 1\u001b[0m in \u001b[0;36m1\n\u001b[1;32m----> <a href='vscode-notebook-cell:/c%3A/Users/Timii/Documents/Dev/Nelson/final_lstm.ipynb#W0sZmlsZQ%3D%3D?line=0'>1</a>\u001b[0m \u001b[39mimport\u001b[39;00m \u001b[39mtorch\u001b[39;00m\n\u001b[0;32m      <a href='vscode-notebook-cell:/c%3A/Users/Timii/Documents/Dev/Nelson/final_lstm.ipynb#W0sZmlsZQ%3D%3D?line=1'>2</a>\u001b[0m \u001b[39mimport\u001b[39;00m \u001b[39mtorch\u001b[39;00m\u001b[39m.\u001b[39;00m\u001b[39mnn\u001b[39;00m \u001b[39mas\u001b[39;00m \u001b[39mnn\u001b[39;00m\n\u001b[0;32m      <a href='vscode-notebook-cell:/c%3A/Users/Timii/Documents/Dev/Nelson/final_lstm.ipynb#W0sZmlsZQ%3D%3D?line=2'>3</a>\u001b[0m \u001b[39mimport\u001b[39;00m \u001b[39mtorch\u001b[39;00m\u001b[39m.\u001b[39;00m\u001b[39mnn\u001b[39;00m\u001b[39m.\u001b[39;00m\u001b[39mfunctional\u001b[39;00m \u001b[39mas\u001b[39;00m \u001b[39mF\u001b[39;00m\n",
      "File \u001b[1;32mc:\\Users\\Timii\\AppData\\Local\\Programs\\Python\\Python310\\lib\\site-packages\\torch\\__init__.py:676\u001b[0m\n\u001b[0;32m    671\u001b[0m \u001b[39m################################################################################\u001b[39;00m\n\u001b[0;32m    672\u001b[0m \u001b[39m# Define Storage and Tensor classes\u001b[39;00m\n\u001b[0;32m    673\u001b[0m \u001b[39m################################################################################\u001b[39;00m\n\u001b[0;32m    675\u001b[0m \u001b[39mfrom\u001b[39;00m \u001b[39m.\u001b[39;00m\u001b[39m_tensor\u001b[39;00m \u001b[39mimport\u001b[39;00m Tensor\n\u001b[1;32m--> 676\u001b[0m \u001b[39mfrom\u001b[39;00m \u001b[39m.\u001b[39;00m\u001b[39mstorage\u001b[39;00m \u001b[39mimport\u001b[39;00m _StorageBase, TypedStorage, _LegacyStorage, UntypedStorage\n\u001b[0;32m    678\u001b[0m \u001b[39m# NOTE: New <type>Storage classes should never be added. When adding a new\u001b[39;00m\n\u001b[0;32m    679\u001b[0m \u001b[39m# dtype, use torch.storage.TypedStorage directly.\u001b[39;00m\n\u001b[0;32m    681\u001b[0m \u001b[39mclass\u001b[39;00m \u001b[39mByteStorage\u001b[39;00m(_LegacyStorage):\n",
      "File \u001b[1;32mc:\\Users\\Timii\\AppData\\Local\\Programs\\Python\\Python310\\lib\\site-packages\\torch\\storage.py:11\u001b[0m\n\u001b[0;32m      9\u001b[0m \u001b[39mfrom\u001b[39;00m \u001b[39mfunctools\u001b[39;00m \u001b[39mimport\u001b[39;00m lru_cache\n\u001b[0;32m     10\u001b[0m \u001b[39mtry\u001b[39;00m:\n\u001b[1;32m---> 11\u001b[0m     \u001b[39mimport\u001b[39;00m \u001b[39mnumpy\u001b[39;00m \u001b[39mas\u001b[39;00m \u001b[39mnp\u001b[39;00m\n\u001b[0;32m     12\u001b[0m     HAS_NUMPY \u001b[39m=\u001b[39m \u001b[39mTrue\u001b[39;00m\n\u001b[0;32m     13\u001b[0m \u001b[39mexcept\u001b[39;00m \u001b[39mModuleNotFoundError\u001b[39;00m:\n",
      "File \u001b[1;32mc:\\Users\\Timii\\AppData\\Local\\Programs\\Python\\Python310\\lib\\site-packages\\numpy\\__init__.py:143\u001b[0m\n\u001b[0;32m    141\u001b[0m \u001b[39mfrom\u001b[39;00m \u001b[39m.\u001b[39;00m\u001b[39mcore\u001b[39;00m \u001b[39mimport\u001b[39;00m \u001b[39m*\u001b[39m\n\u001b[0;32m    142\u001b[0m \u001b[39mfrom\u001b[39;00m \u001b[39m.\u001b[39;00m \u001b[39mimport\u001b[39;00m compat\n\u001b[1;32m--> 143\u001b[0m \u001b[39mfrom\u001b[39;00m \u001b[39m.\u001b[39;00m \u001b[39mimport\u001b[39;00m lib\n\u001b[0;32m    144\u001b[0m \u001b[39m# NOTE: to be revisited following future namespace cleanup.\u001b[39;00m\n\u001b[0;32m    145\u001b[0m \u001b[39m# See gh-14454 and gh-15672 for discussion.\u001b[39;00m\n\u001b[0;32m    146\u001b[0m \u001b[39mfrom\u001b[39;00m \u001b[39m.\u001b[39;00m\u001b[39mlib\u001b[39;00m \u001b[39mimport\u001b[39;00m \u001b[39m*\u001b[39m\n",
      "File \u001b[1;32mc:\\Users\\Timii\\AppData\\Local\\Programs\\Python\\Python310\\lib\\site-packages\\numpy\\lib\\__init__.py:25\u001b[0m\n\u001b[0;32m     23\u001b[0m \u001b[39m# Private submodules\u001b[39;00m\n\u001b[0;32m     24\u001b[0m \u001b[39mfrom\u001b[39;00m \u001b[39m.\u001b[39;00m\u001b[39mtype_check\u001b[39;00m \u001b[39mimport\u001b[39;00m \u001b[39m*\u001b[39m\n\u001b[1;32m---> 25\u001b[0m \u001b[39mfrom\u001b[39;00m \u001b[39m.\u001b[39;00m\u001b[39mindex_tricks\u001b[39;00m \u001b[39mimport\u001b[39;00m \u001b[39m*\u001b[39m\n\u001b[0;32m     26\u001b[0m \u001b[39mfrom\u001b[39;00m \u001b[39m.\u001b[39;00m\u001b[39mfunction_base\u001b[39;00m \u001b[39mimport\u001b[39;00m \u001b[39m*\u001b[39m\n\u001b[0;32m     27\u001b[0m \u001b[39mfrom\u001b[39;00m \u001b[39m.\u001b[39;00m\u001b[39mnanfunctions\u001b[39;00m \u001b[39mimport\u001b[39;00m \u001b[39m*\u001b[39m\n",
      "File \u001b[1;32mc:\\Users\\Timii\\AppData\\Local\\Programs\\Python\\Python310\\lib\\site-packages\\numpy\\lib\\index_tricks.py:429\u001b[0m\n\u001b[0;32m    422\u001b[0m         \u001b[39mreturn\u001b[39;00m \u001b[39m0\u001b[39m\n\u001b[0;32m    424\u001b[0m \u001b[39m# separate classes are used here instead of just making r_ = concatentor(0),\u001b[39;00m\n\u001b[0;32m    425\u001b[0m \u001b[39m# etc. because otherwise we couldn't get the doc string to come out right\u001b[39;00m\n\u001b[0;32m    426\u001b[0m \u001b[39m# in help(r_)\u001b[39;00m\n\u001b[1;32m--> 429\u001b[0m \u001b[39mclass\u001b[39;00m \u001b[39mRClass\u001b[39;00m(AxisConcatenator):\n\u001b[0;32m    430\u001b[0m     \u001b[39m\"\"\"\u001b[39;00m\n\u001b[0;32m    431\u001b[0m \u001b[39m    Translates slice objects to concatenation along the first axis.\u001b[39;00m\n\u001b[0;32m    432\u001b[0m \n\u001b[1;32m   (...)\u001b[0m\n\u001b[0;32m    521\u001b[0m \n\u001b[0;32m    522\u001b[0m \u001b[39m    \"\"\"\u001b[39;00m\n\u001b[0;32m    524\u001b[0m     \u001b[39mdef\u001b[39;00m \u001b[39m__init__\u001b[39m(\u001b[39mself\u001b[39m):\n",
      "File \u001b[1;32mc:\\Users\\Timii\\AppData\\Local\\Programs\\Python\\Python310\\lib\\site-packages\\numpy\\lib\\index_tricks.py:429\u001b[0m, in \u001b[0;36mRClass\u001b[1;34m()\u001b[0m\n\u001b[0;32m    422\u001b[0m         \u001b[39mreturn\u001b[39;00m \u001b[39m0\u001b[39m\n\u001b[0;32m    424\u001b[0m \u001b[39m# separate classes are used here instead of just making r_ = concatentor(0),\u001b[39;00m\n\u001b[0;32m    425\u001b[0m \u001b[39m# etc. because otherwise we couldn't get the doc string to come out right\u001b[39;00m\n\u001b[0;32m    426\u001b[0m \u001b[39m# in help(r_)\u001b[39;00m\n\u001b[1;32m--> 429\u001b[0m \u001b[39mclass\u001b[39;00m \u001b[39mRClass\u001b[39;00m(AxisConcatenator):\n\u001b[0;32m    430\u001b[0m     \u001b[39m\"\"\"\u001b[39;00m\n\u001b[0;32m    431\u001b[0m \u001b[39m    Translates slice objects to concatenation along the first axis.\u001b[39;00m\n\u001b[0;32m    432\u001b[0m \n\u001b[1;32m   (...)\u001b[0m\n\u001b[0;32m    521\u001b[0m \n\u001b[0;32m    522\u001b[0m \u001b[39m    \"\"\"\u001b[39;00m\n\u001b[0;32m    524\u001b[0m     \u001b[39mdef\u001b[39;00m \u001b[39m__init__\u001b[39m(\u001b[39mself\u001b[39m):\n",
      "\u001b[1;31mKeyboardInterrupt\u001b[0m: "
     ]
    }
   ],
   "source": [
    "import torch\n",
    "import torch.nn as nn\n",
    "import torch.nn.functional as F\n",
    "import torch.optim as optim\n",
    "from torch.autograd import Variable \n",
    "import numpy as np\n",
    "import pandas as pd\n",
    "from sklearn.preprocessing import StandardScaler\n",
    "import matplotlib.pyplot as plt"
   ]
  },
  {
   "cell_type": "code",
   "execution_count": null,
   "metadata": {},
   "outputs": [
    {
     "data": {
      "text/plain": [
       "((229651, 48), (229651, 1))"
      ]
     },
     "execution_count": 3,
     "metadata": {},
     "output_type": "execute_result"
    }
   ],
   "source": [
    "sc = StandardScaler()\n",
    "pd_xela_allfiles = pd.read_csv('data.csv', index_col=0)\n",
    "pd_sliplabel_allfiles = pd.read_csv('labels.csv', index_col=0)\n",
    "\n",
    "data = pd_xela_allfiles.to_numpy()\n",
    "data = sc.fit_transform(data)\n",
    "labels = pd_sliplabel_allfiles.to_numpy()\n",
    "(data.shape, labels.shape)"
   ]
  },
  {
   "cell_type": "code",
   "execution_count": null,
   "metadata": {},
   "outputs": [
    {
     "data": {
      "text/plain": [
       "<AxesSubplot: title={'center': 'mm'}>"
      ]
     },
     "execution_count": 3,
     "metadata": {},
     "output_type": "execute_result"
    },
    {
     "data": {
      "image/png": "[encoded data removed]",
      "text/plain": [
       "<Figure size 640x480 with 1 Axes>"
      ]
     },
     "metadata": {},
     "output_type": "display_data"
    }
   ],
   "source": [
    "# plt.style.use('ggplot')\n",
    "pd_sliplabel_allfiles['slip'].plot(label='CLOSE', title='mm')"
   ]
  },
  {
   "cell_type": "code",
   "execution_count": 4,
   "metadata": {},
   "outputs": [
    {
     "data": {
      "text/plain": [
       "((229647, 5, 48), (229647, 1))"
      ]
     },
     "execution_count": 4,
     "metadata": {},
     "output_type": "execute_result"
    }
   ],
   "source": [
    "seq = 10\n",
    "x = []\n",
    "for t in range(data.shape[0]-(seq-1)):\n",
    "    x.append(data[t:t+seq])\n",
    "x = np.array(x)\n",
    "y = labels[seq-1:]\n",
    "\n",
    "(x.shape, \n",
    "y.shape)"
   ]
  },
  {
   "cell_type": "code",
   "execution_count": 5,
   "metadata": {},
   "outputs": [
    {
     "name": "stdout",
     "output_type": "stream",
     "text": [
      "torch.Size([229647, 5, 48]) torch.Size([229647, 5, 48])\n"
     ]
    }
   ],
   "source": [
    "X_train_tensors = Variable(torch.Tensor(x))\n",
    "y_train_tensors = Variable(torch.Tensor(y))\n",
    "X_train_tensors_final = torch.reshape(X_train_tensors,   (X_train_tensors.shape[0], seq, 48))\n",
    "\n",
    "print(X_train_tensors.shape, X_train_tensors_final.shape)"
   ]
  },
  {
   "cell_type": "code",
   "execution_count": 6,
   "metadata": {},
   "outputs": [],
   "source": [
    "class LSTM1(nn.Module):\n",
    "    def __init__(self, num_classes, input_size, hidden_size, num_layers, seq_length):\n",
    "        super(LSTM1, self).__init__()\n",
    "        self.num_classes = num_classes \n",
    "        self.num_layers = num_layers \n",
    "        self.input_size = input_size \n",
    "        self.hidden_size = hidden_size \n",
    "        self.seq_length = seq_length \n",
    "\n",
    "        self.lstm = nn.LSTM(input_size=input_size, hidden_size=hidden_size,\n",
    "                          num_layers=num_layers, batch_first=True) \n",
    "        self.fc_1 =  nn.Linear(hidden_size, 32)\n",
    "        self.fc = nn.Linear(32, num_classes) \n",
    "\n",
    "        self.relu = nn.ReLU()\n",
    "        self.sigmoid = nn.Sigmoid()\n",
    "    \n",
    "    def forward(self,x):\n",
    "        h_0 = Variable(torch.zeros(self.num_layers, x.size(0), self.hidden_size)) \n",
    "        c_0 = Variable(torch.zeros(self.num_layers, x.size(0), self.hidden_size)) \n",
    "        \n",
    "        output, (hn, cn) = self.lstm(x, (h_0, c_0)) \n",
    "        hn = hn.view(-1, self.hidden_size)\n",
    "        out = self.relu(hn)\n",
    "        out = self.fc_1(out) \n",
    "        out = self.relu(out) \n",
    "        out = self.fc(out) \n",
    "        out = self.sigmoid(out)\n",
    "        return out"
   ]
  },
  {
   "cell_type": "code",
   "execution_count": 7,
   "metadata": {},
   "outputs": [],
   "source": [
    "num_epochs = 100\n",
    "learning_rate = 0.003 \n",
    "\n",
    "input_size = 48\n",
    "hidden_size = 32\n",
    "num_layers = 1 \n",
    "num_classes = 1 \n",
    "\n",
    "lstm1 = LSTM1(num_classes, input_size, hidden_size, num_layers, X_train_tensors_final.shape[1])\n",
    "criterion = torch.nn.BCELoss()   \n",
    "optimizer = torch.optim.Adam(lstm1.parameters(), lr=learning_rate) "
   ]
  },
  {
   "cell_type": "code",
   "execution_count": 8,
   "metadata": {},
   "outputs": [
    {
     "name": "stdout",
     "output_type": "stream",
     "text": [
      "Epoch: 0, loss: 0.65542\n",
      "Epoch: 1, loss: 0.63817\n",
      "Epoch: 2, loss: 0.62127\n",
      "Epoch: 3, loss: 0.60429\n",
      "Epoch: 4, loss: 0.58714\n",
      "Epoch: 5, loss: 0.56940\n",
      "Epoch: 6, loss: 0.55076\n",
      "Epoch: 7, loss: 0.53114\n",
      "Epoch: 8, loss: 0.51062\n",
      "Epoch: 9, loss: 0.48935\n",
      "Epoch: 10, loss: 0.46751\n",
      "Epoch: 11, loss: 0.44534\n",
      "Epoch: 12, loss: 0.42297\n",
      "Epoch: 13, loss: 0.40064\n",
      "Epoch: 14, loss: 0.37852\n",
      "Epoch: 15, loss: 0.35695\n",
      "Epoch: 16, loss: 0.33628\n",
      "Epoch: 17, loss: 0.31689\n",
      "Epoch: 18, loss: 0.29903\n",
      "Epoch: 19, loss: 0.28288\n",
      "Epoch: 20, loss: 0.26849\n",
      "Epoch: 21, loss: 0.25586\n",
      "Epoch: 22, loss: 0.24490\n",
      "Epoch: 23, loss: 0.23542\n",
      "Epoch: 24, loss: 0.22717\n",
      "Epoch: 25, loss: 0.21987\n",
      "Epoch: 26, loss: 0.21330\n",
      "Epoch: 27, loss: 0.20732\n",
      "Epoch: 28, loss: 0.20182\n",
      "Epoch: 29, loss: 0.19673\n",
      "Epoch: 30, loss: 0.19204\n",
      "Epoch: 31, loss: 0.18770\n",
      "Epoch: 32, loss: 0.18375\n",
      "Epoch: 33, loss: 0.18048\n",
      "Epoch: 34, loss: 0.17698\n",
      "Epoch: 35, loss: 0.17378\n",
      "Epoch: 36, loss: 0.17088\n",
      "Epoch: 37, loss: 0.16817\n",
      "Epoch: 38, loss: 0.16557\n",
      "Epoch: 39, loss: 0.16305\n",
      "Epoch: 40, loss: 0.16060\n",
      "Epoch: 41, loss: 0.15822\n",
      "Epoch: 42, loss: 0.15589\n",
      "Epoch: 43, loss: 0.15361\n",
      "Epoch: 44, loss: 0.15136\n",
      "Epoch: 45, loss: 0.14917\n",
      "Epoch: 46, loss: 0.14706\n",
      "Epoch: 47, loss: 0.14500\n",
      "Epoch: 48, loss: 0.14302\n",
      "Epoch: 49, loss: 0.14111\n",
      "Epoch: 50, loss: 0.13928\n",
      "Epoch: 51, loss: 0.13751\n",
      "Epoch: 52, loss: 0.13580\n",
      "Epoch: 53, loss: 0.13413\n",
      "Epoch: 54, loss: 0.13251\n",
      "Epoch: 55, loss: 0.13092\n",
      "Epoch: 56, loss: 0.12937\n",
      "Epoch: 57, loss: 0.12785\n",
      "Epoch: 58, loss: 0.12636\n",
      "Epoch: 59, loss: 0.12490\n",
      "Epoch: 60, loss: 0.12346\n",
      "Epoch: 61, loss: 0.12205\n",
      "Epoch: 62, loss: 0.12068\n",
      "Epoch: 63, loss: 0.11934\n",
      "Epoch: 64, loss: 0.11805\n",
      "Epoch: 65, loss: 0.11679\n",
      "Epoch: 66, loss: 0.11558\n",
      "Epoch: 67, loss: 0.11441\n",
      "Epoch: 68, loss: 0.11327\n",
      "Epoch: 69, loss: 0.11216\n",
      "Epoch: 70, loss: 0.11103\n",
      "Epoch: 71, loss: 0.10991\n",
      "Epoch: 72, loss: 0.10881\n",
      "Epoch: 73, loss: 0.10771\n",
      "Epoch: 74, loss: 0.10663\n",
      "Epoch: 75, loss: 0.10557\n",
      "Epoch: 76, loss: 0.10453\n",
      "Epoch: 77, loss: 0.10351\n",
      "Epoch: 78, loss: 0.10249\n",
      "Epoch: 79, loss: 0.10149\n",
      "Epoch: 80, loss: 0.10050\n",
      "Epoch: 81, loss: 0.09951\n",
      "Epoch: 82, loss: 0.09851\n",
      "Epoch: 83, loss: 0.09751\n",
      "Epoch: 84, loss: 0.09651\n",
      "Epoch: 85, loss: 0.09551\n",
      "Epoch: 86, loss: 0.09449\n",
      "Epoch: 87, loss: 0.09345\n",
      "Epoch: 88, loss: 0.09240\n",
      "Epoch: 89, loss: 0.09134\n",
      "Epoch: 90, loss: 0.09028\n",
      "Epoch: 91, loss: 0.08923\n",
      "Epoch: 92, loss: 0.08818\n",
      "Epoch: 93, loss: 0.08713\n",
      "Epoch: 94, loss: 0.08607\n",
      "Epoch: 95, loss: 0.08502\n",
      "Epoch: 96, loss: 0.08395\n",
      "Epoch: 97, loss: 0.08289\n",
      "Epoch: 98, loss: 0.08182\n",
      "Epoch: 99, loss: 0.08074\n"
     ]
    }
   ],
   "source": [
    "for epoch in range(num_epochs):\n",
    "    outputs = lstm1.forward(X_train_tensors_final)\n",
    "    optimizer.zero_grad()\n",
    "    loss = criterion(outputs, y_train_tensors)\n",
    "    loss.backward()\n",
    "    optimizer.step() \n",
    "    print(\"Epoch: %d, loss: %1.5f\" % (epoch, loss.item())) "
   ]
  },
  {
   "cell_type": "code",
   "execution_count": 9,
   "metadata": {},
   "outputs": [
    {
     "data": {
      "image/png": "[encoded data removed]",
      "text/plain": [
       "<Figure size 1000x600 with 1 Axes>"
      ]
     },
     "metadata": {},
     "output_type": "display_data"
    }
   ],
   "source": [
    "train_predict = lstm1(X_train_tensors_final)\n",
    "data_predict = train_predict.data.numpy()\n",
    "dataY_plot = y_train_tensors.data.numpy()\n",
    "\n",
    "plt.figure(figsize=(10,6))\n",
    "plt.axvline(x=200, c='r', linestyle='--') \n",
    "\n",
    "plt.plot(dataY_plot, label='Actuall Data') #actual plot\n",
    "plt.plot(data_predict, label='Predicted Data') #predicted plot\n",
    "plt.title('Time-Series Prediction')\n",
    "plt.legend()\n",
    "plt.show()"
   ]
  }
 ],
 "metadata": {
  "kernelspec": {
   "display_name": "Python 3",
   "language": "python",
   "name": "python3"
  },
  "language_info": {
   "codemirror_mode": {
    "name": "ipython",
    "version": 3
   },
   "file_extension": ".py",
   "mimetype": "text/x-python",
   "name": "python",
   "nbconvert_exporter": "python",
   "pygments_lexer": "ipython3",
   "version": "3.10.8"
  },
  "orig_nbformat": 4,
  "vscode": {
   "interpreter": {
    "hash": "947f030b3e678118fc438144c1e47ca5c23949e6feee86165ca58c1240ce2eba"
   }
  }
 },
 "nbformat": 4,
 "nbformat_minor": 2
}
